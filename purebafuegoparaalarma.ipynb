{
  "nbformat": 4,
  "nbformat_minor": 0,
  "metadata": {
    "colab": {
      "name": "Untitled4.ipynb",
      "provenance": [],
      "authorship_tag": "ABX9TyPhauBzvNnF2PTthW/+xNlE",
      "include_colab_link": true
    },
    "kernelspec": {
      "name": "python3",
      "display_name": "Python 3"
    },
    "language_info": {
      "name": "python"
    }
  },
  "cells": [
    {
      "cell_type": "markdown",
      "metadata": {
        "id": "view-in-github",
        "colab_type": "text"
      },
      "source": [
        "<a href=\"https://colab.research.google.com/github/sofiaif/detecciondefuego/blob/main/purebafuegoparaalarma.ipynb\" target=\"_parent\"><img src=\"https://colab.research.google.com/assets/colab-badge.svg\" alt=\"Open In Colab\"/></a>"
      ]
    },
    {
      "cell_type": "code",
      "metadata": {
        "colab": {
          "base_uri": "https://localhost:8080/"
        },
        "id": "qYWvcs1i1OsG",
        "outputId": "26438c72-6f2f-4476-bddc-42f4ae772ef8"
      },
      "source": [
        "pip install opencv-python"
      ],
      "execution_count": null,
      "outputs": [
        {
          "output_type": "stream",
          "text": [
            "Requirement already satisfied: opencv-python in /usr/local/lib/python3.7/dist-packages (4.1.2.30)\n",
            "Requirement already satisfied: numpy>=1.14.5 in /usr/local/lib/python3.7/dist-packages (from opencv-python) (1.19.5)\n"
          ],
          "name": "stdout"
        }
      ]
    },
    {
      "cell_type": "code",
      "metadata": {
        "id": "EgaOtBU9bCwx",
        "outputId": "902f7743-195d-4784-f730-c4f8bce1a246",
        "colab": {
          "base_uri": "https://localhost:8080/"
        }
      },
      "source": [
        "pip install numpy"
      ],
      "execution_count": 1,
      "outputs": [
        {
          "output_type": "stream",
          "text": [
            "Requirement already satisfied: numpy in /usr/local/lib/python3.7/dist-packages (1.19.5)\n"
          ],
          "name": "stdout"
        }
      ]
    },
    {
      "cell_type": "code",
      "metadata": {
        "id": "jsOvhTBbtpjP"
      },
      "source": [
        "import numpy as np\n",
        "import cv2\n",
        "#import serial\n",
        "\n",
        "#ser = serial.Serial('COM', 9600)\n",
        "\n",
        "fire_cascade = cv2.CascadeClassifier('fire_detection.xml')\n",
        "font = cv2.FONT_HERSHEY_SIMPLEX\n",
        "\n",
        "cap = cv2.VideoCapture(1)\n",
        "\n",
        "while(True):\n",
        "  ret, frame = cap.read()\n",
        "  if ret==True:\n",
        "    gray = cv2.cvtColor(frame, cv2.COLOR_BGR2GRAY)\n",
        "    fire = fire_cascade.detectMultiScale(frame, 1.2, 5)\n",
        "\n",
        "    for (x,y,w,h,) in fire:\n",
        "      cv2.rectangle(frame, (x-20, y-20), (x+w+20, y+h+20), (255,0,0),2)\n",
        "      roi.gray = gray[y:y+h, x:x+w]\n",
        "      roi.color = frame[y:y+h, x:x+w]\n",
        "      roi.size = cv2.resize(rostro,(150,150),interpolation=cv2.INTER_CUBIC)\n",
        "      cv2.imwrite(personPath + '/rotro_{}.jpg'.format(count),rostro)\n",
        "      count = count + 1\n",
        "      cv2.imshow('frame',frame)\n",
        "      k =  cv2.waitKey(1)\n",
        "      if k == 27 or count >= 300:\n",
        "        break\n",
        "        \n",
        "cap.release()\n",
        "cv2.destroyAllWindows()"
      ],
      "execution_count": null,
      "outputs": []
    }
  ]
}